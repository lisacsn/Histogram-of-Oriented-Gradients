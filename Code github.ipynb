{
 "cells": [
  {
   "cell_type": "code",
   "execution_count": 18,
   "metadata": {},
   "outputs": [],
   "source": [
    "import cv2\n",
    "import numpy as np\n",
    "import math\n",
    "import matplotlib.pyplot as plt\n",
    "\n",
    "\n",
    "class Hog_descriptor():\n",
    "    def __init__(self, img, cell_size=16, bin_size=8):\n",
    "        self.img = img\n",
    "        self.img = np.sqrt(img / float(np.max(img)))\n",
    "        self.img = self.img * 255\n",
    "        self.cell_size = cell_size\n",
    "        self.bin_size = bin_size\n",
    "        self.angle_unit = 360 / self.bin_size\n",
    "        assert type(self.bin_size) == int, \"bin_size should be integer,\"\n",
    "        assert type(self.cell_size) == int, \"cell_size should be integer,\"\n",
    "        #assert type(self.angle_unit) == int, \"bin_size should be divisible by 360\"\n",
    "\n",
    "    def extract(self):\n",
    "        height, width = self.img.shape\n",
    "        gradient_magnitude, gradient_angle = self.global_gradient()\n",
    "        gradient_magnitude = abs(gradient_magnitude)\n",
    "        cell_gradient_vector = np.zeros((int(height / self.cell_size), int(width / self.cell_size), self.bin_size))\n",
    "        for i in range(cell_gradient_vector.shape[0]):\n",
    "            for j in range(cell_gradient_vector.shape[1]):\n",
    "                cell_magnitude = gradient_magnitude[i * self.cell_size:(i + 1) * self.cell_size,\n",
    "                                 j * self.cell_size:(j + 1) * self.cell_size]\n",
    "                cell_angle = gradient_angle[i * self.cell_size:(i + 1) * self.cell_size,\n",
    "                             j * self.cell_size:(j + 1) * self.cell_size]\n",
    "                cell_gradient_vector[i][j] = self.cell_gradient(cell_magnitude, cell_angle)\n",
    "\n",
    "        #print(cell_gradient_vector.shape)\n",
    "        #afficher_hist(cell_gradient_vector[1,2,:], hist_bins)\n",
    "        \n",
    "        hog_image = self.render_gradient(np.zeros([height, width]), cell_gradient_vector)\n",
    "        hog_vector = []\n",
    "        for i in range(cell_gradient_vector.shape[0] - 1):\n",
    "            for j in range(cell_gradient_vector.shape[1] - 1):\n",
    "                block_vector = []\n",
    "                block_vector.extend(cell_gradient_vector[i][j])\n",
    "                block_vector.extend(cell_gradient_vector[i][j + 1])\n",
    "                block_vector.extend(cell_gradient_vector[i + 1][j])\n",
    "                block_vector.extend(cell_gradient_vector[i + 1][j + 1])\n",
    "                mag = lambda vector: math.sqrt(sum(i ** 2 for i in vector))\n",
    "                magnitude = mag(block_vector)\n",
    "                if magnitude != 0:\n",
    "                    normalize = lambda block_vector, magnitude: [element / magnitude for element in block_vector]\n",
    "                    block_vector = normalize(block_vector, magnitude)\n",
    "                hog_vector.append(block_vector)\n",
    "        return hog_vector, hog_image\n",
    "\n",
    "    def global_gradient(self):\n",
    "        gradient_values_x = cv2.Sobel(self.img, cv2.CV_64F, 1, 0, ksize=5)\n",
    "        gradient_values_y = cv2.Sobel(self.img, cv2.CV_64F, 0, 1, ksize=5)\n",
    "        gradient_magnitude = cv2.addWeighted(gradient_values_x, 0.5, gradient_values_y, 0.5, 0)\n",
    "        gradient_angle = cv2.phase(gradient_values_x, gradient_values_y, angleInDegrees=True)\n",
    "        return gradient_magnitude, gradient_angle\n",
    "\n",
    "    def cell_gradient(self, cell_magnitude, cell_angle):\n",
    "        orientation_centers = [0] * self.bin_size\n",
    "        for i in range(cell_magnitude.shape[0]):\n",
    "            for j in range(cell_magnitude.shape[1]):\n",
    "                gradient_strength = cell_magnitude[i][j]\n",
    "                gradient_angle = cell_angle[i][j]\n",
    "                min_angle, max_angle, mod = self.get_closest_bins(gradient_angle)\n",
    "                orientation_centers[min_angle] += (gradient_strength * (1 - (mod / self.angle_unit)))\n",
    "                orientation_centers[max_angle] += (gradient_strength * (mod / self.angle_unit))\n",
    "        return orientation_centers\n",
    "\n",
    "    def get_closest_bins(self, gradient_angle):\n",
    "        idx = int(gradient_angle / self.angle_unit)\n",
    "        mod = gradient_angle % self.angle_unit\n",
    "        if idx == self.bin_size:\n",
    "            return idx - 1, (idx) % self.bin_size, mod\n",
    "        return idx, (idx + 1) % self.bin_size, mod\n",
    "\n",
    "    def render_gradient(self, image, cell_gradient):\n",
    "        cell_width = self.cell_size / 2\n",
    "        max_mag = np.array(cell_gradient).max()\n",
    "        # print(max_mag)\n",
    "        for x in range(cell_gradient.shape[0]):\n",
    "            for y in range(cell_gradient.shape[1]):\n",
    "                cell_grad = cell_gradient[x][y]\n",
    "                cell_grad /= max_mag\n",
    "                angle = 0\n",
    "                angle_gap = self.angle_unit\n",
    "                for magnitude in cell_grad:\n",
    "                    angle_radian = math.radians(angle)\n",
    "                    x1 = int(x * self.cell_size + magnitude * cell_width * math.cos(angle_radian))\n",
    "                    y1 = int(y * self.cell_size + magnitude * cell_width * math.sin(angle_radian))\n",
    "                    x2 = int(x * self.cell_size - magnitude * cell_width * math.cos(angle_radian))\n",
    "                    y2 = int(y * self.cell_size - magnitude * cell_width * math.sin(angle_radian))\n",
    "                    cv2.line(image, (y1, x1), (y2, x2), int(255 * math.sqrt(magnitude)))\n",
    "                    angle += angle_gap\n",
    "        return image"
   ]
  },
  {
   "cell_type": "code",
   "execution_count": 19,
   "metadata": {},
   "outputs": [],
   "source": [
    "def afficher_hist(hist, hist_bins):\n",
    "    pos = np.arange(len(hist_bins))\n",
    "    width = 1\n",
    "    ax = plt.axes()\n",
    "    ax.set_xticks(pos - (width / 2))\n",
    "    ax.set_xticklabels(hist_bins)\n",
    "\n",
    "    plt.bar(pos, hist, width, color='grey', edgecolor=\"black\")\n",
    "    plt.title(\"Histogram of Gradients\")\n",
    "    plt.xlabel(\"Orientation\")\n",
    "    plt.ylabel(\"Gradient Magnitude\")\n",
    "    plt.show()\n",
    "    \n",
    "hist_bins = np.array([0,20,40,60,80,100,120,140,160])"
   ]
  },
  {
   "cell_type": "code",
   "execution_count": 20,
   "metadata": {},
   "outputs": [
    {
     "name": "stdout",
     "output_type": "stream",
     "text": [
      "90953.53511777689\n"
     ]
    },
    {
     "data": {
      "image/png": "[encoded data removed]",
      "text/plain": [
       "<Figure size 432x288 with 1 Axes>"
      ]
     },
     "metadata": {
      "needs_background": "light"
     },
     "output_type": "display_data"
    }
   ],
   "source": [
    "path_base =  'Image/'\n",
    "img = cv2.imread(path_base+'cameraman.tif',0)\n",
    "\n",
    "dsize= (64,128)\n",
    "img = cv2.resize(img, dsize, interpolation = cv2.INTER_AREA)\n",
    "\n",
    "hog = Hog_descriptor(img, cell_size=8, bin_size=9)\n",
    "vector, image = hog.extract()\n",
    "plt.imshow(image, cmap='gray')\n",
    "plt.show()"
   ]
  },
  {
   "cell_type": "code",
   "execution_count": 24,
   "metadata": {},
   "outputs": [
    {
     "data": {
      "text/plain": [
       "105"
      ]
     },
     "execution_count": 24,
     "metadata": {},
     "output_type": "execute_result"
    }
   ],
   "source": [
    "len(vector)"
   ]
  },
  {
   "cell_type": "code",
   "execution_count": null,
   "metadata": {},
   "outputs": [],
   "source": []
  }
 ],
 "metadata": {
  "kernelspec": {
   "display_name": "Python 3",
   "language": "python",
   "name": "python3"
  },
  "language_info": {
   "codemirror_mode": {
    "name": "ipython",
    "version": 3
   },
   "file_extension": ".py",
   "mimetype": "text/x-python",
   "name": "python",
   "nbconvert_exporter": "python",
   "pygments_lexer": "ipython3",
   "version": "3.7.9"
  }
 },
 "nbformat": 4,
 "nbformat_minor": 4
}
